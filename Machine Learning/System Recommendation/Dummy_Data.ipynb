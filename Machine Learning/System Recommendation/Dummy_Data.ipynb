{
  "nbformat": 4,
  "nbformat_minor": 0,
  "metadata": {
    "colab": {
      "provenance": []
    },
    "kernelspec": {
      "name": "python3",
      "display_name": "Python 3"
    },
    "language_info": {
      "name": "python"
    }
  },
  "cells": [
    {
      "cell_type": "code",
      "source": [
        "import pandas as pd\n",
        "import random\n",
        "\n",
        "# Inisialisasi Rentang Nilai Temperatur dan Kelembaban Tiap Tanaman\n",
        "plant_ranges = {\n",
        "    'Sawi': (range(27, 33), range(65, 76)),\n",
        "    'Kangkung': (range(18, 28), range(60, 81)),\n",
        "    'Selada': (range(25, 29), range(65, 79)),\n",
        "    'Pakcoy': (range(16, 25), range(60, 71)),\n",
        "    'Bayam': (range(18, 22), range(40, 71)),\n",
        "    'Seledri': (range(23, 27), range(70, 83)),\n",
        "    'Kailan': (range(22, 25), range(75, 86))\n",
        "}\n",
        "\n",
        "# Inisialisasi List untuk Menyimpan Data\n",
        "data = []\n",
        "\n",
        "# Generate Data Dummy\n",
        "for plant, (temp_range, hum_range) in plant_ranges.items():\n",
        "    for _ in range(200):\n",
        "        temp = random.choice(temp_range)\n",
        "        hum = random.choice(hum_range)\n",
        "        data.append([plant, temp, hum])\n",
        "\n",
        "# Mengacak urutan data\n",
        "random.shuffle(data)\n",
        "\n",
        "# Membuat DataFrame\n",
        "df = pd.DataFrame(data, columns=['Plant', 'Temp', 'Humidity'])\n",
        "\n",
        "# Menyimpan Data ke File CSV\n",
        "df.to_csv('dummy_plant_data.csv', index=False)\n",
        "\n",
        "# Menampilkan 20 Data Teratas\n",
        "print(df.head(20))"
      ],
      "metadata": {
        "id": "hHHvi98lU_d0",
        "outputId": "75fa9833-6d71-4f1c-9741-b15e17db77e3",
        "colab": {
          "base_uri": "https://localhost:8080/"
        }
      },
      "execution_count": null,
      "outputs": [
        {
          "output_type": "stream",
          "name": "stdout",
          "text": [
            "       Plant  Temp  Humidity\n",
            "0   Kangkung    27        66\n",
            "1      Bayam    21        51\n",
            "2    Seledri    26        71\n",
            "3      Bayam    21        46\n",
            "4     Pakcoy    20        70\n",
            "5      Bayam    21        61\n",
            "6   Kangkung    26        67\n",
            "7     Selada    25        78\n",
            "8     Selada    26        65\n",
            "9   Kangkung    18        69\n",
            "10   Seledri    26        82\n",
            "11    Pakcoy    21        70\n",
            "12     Bayam    21        68\n",
            "13      Sawi    29        72\n",
            "14     Bayam    20        67\n",
            "15    Selada    25        78\n",
            "16    Selada    25        69\n",
            "17      Sawi    31        67\n",
            "18     Bayam    20        57\n",
            "19    Kailan    24        83\n"
          ]
        }
      ]
    },
    {
      "cell_type": "markdown",
      "source": [
        "# **Sumber Literatur Karakteristik Suhu dan Kelembaban Optimal tiap Jenis Tanaman**"
      ],
      "metadata": {
        "id": "0u1uBKirbjH0"
      }
    },
    {
      "cell_type": "markdown",
      "source": [
        "Selada : https://www.bing.com/ck/a?!&&p=2cd84bb2ed0a32f9JmltdHM9MTcxNzg5MTIwMCZpZ3VpZD0yODM0MzIxYi03NmI3LTYzNGQtMjEyZi0yNjgyNzdmMjYyZDMmaW5zaWQ9NTQ3NA&ptn=3&ver=2&hsh=3&fclid=2834321b-76b7-634d-212f-268277f262d3&psq=temperatur+dan+kelembaban+udara+selada+hidroponik&u=a1aHR0cHM6Ly9mYXRlcGEudW5yYW0uYWMuaWQvd3AtY29udGVudC91cGxvYWRzLzIwMjIvMDkvNi4tQWJzdHJha19FdmktSGFzdGluaS1FdmktSGFzdGluaS5wZGYjOn46dGV4dD1TdWh1JTIwZGFuJTIwa2VsZW1iYXBhbiUyMG1lcnVwYWthbiUyMHZhcmlhYmVsJTIwbGluZ2t1bmdhbiUyMHlhbmclMjBzYW5nYXQsMjglQzIlQjBDJTIwZGFuJTIwa2VsZW1iYXBhbiUyMGJlcmtpc2FyJTIwYW50YXJhJTIwNjUlMjUlMjBzYW1wYWklMjA3OCUyNS4&ntb=1\n",
        "\n",
        "Pokcoy : https://www.bing.com/ck/a?!&&p=3c4f8e0aef867af4JmltdHM9MTcxNzg5MTIwMCZpZ3VpZD0yODM0MzIxYi03NmI3LTYzNGQtMjEyZi0yNjgyNzdmMjYyZDMmaW5zaWQ9NTI3Mg&ptn=3&ver=2&hsh=3&fclid=2834321b-76b7-634d-212f-268277f262d3&psq=temperatur+dan+kelembaban+udara+pakcoy+hidroponik&u=a1aHR0cHM6Ly9zdWh1YW5kcm9pZC5pZC9jYXJhLW1lbmFuYW0tcGFrY295LWRlbmdhbi1oaWRyb3BvbmlrLw&ntb=1\n",
        "\n",
        "Bayam : https://potensidesa.com/budidaya-tanaman-bayam-secara-hidroponik/\n",
        "\n",
        "Seledri : https://www.bing.com/ck/a?!&&p=4a995e52291c5476JmltdHM9MTcxNzg5MTIwMCZpZ3VpZD0yODM0MzIxYi03NmI3LTYzNGQtMjEyZi0yNjgyNzdmMjYyZDMmaW5zaWQ9NTMxMQ&ptn=3&ver=2&hsh=3&fclid=2834321b-76b7-634d-212f-268277f262d3&psq=temperatur+dan+kelembaban+udara+seledri+hidroponik&u=a1aHR0cHM6Ly9qb3VybmFsLmlwYi5hYy5pZC9pbmRleC5waHAvanN0c3YvYXJ0aWNsZS9kb3dubG9hZC80NTE3Ni8yNDcyMy8&ntb=1\n",
        "\n",
        "Kailan : https://www.bing.com/ck/a?!&&p=69d4241b9d319aacJmltdHM9MTcxNzg5MTIwMCZpZ3VpZD0yODM0MzIxYi03NmI3LTYzNGQtMjEyZi0yNjgyNzdmMjYyZDMmaW5zaWQ9NTE5Ng&ptn=3&ver=2&hsh=3&fclid=2834321b-76b7-634d-212f-268277f262d3&psq=temperatur+dan+kelembaban+udara+kale+hidroponik&u=a1aHR0cHM6Ly9vanMudW5pZGEuYWMuaWQvSkFHL2FydGljbGUvZG93bmxvYWQvNDY4Ni8yNjk2LzE1MjYx&ntb=1"
      ],
      "metadata": {
        "id": "eqlXLE1kbdPi"
      }
    }
  ]
}